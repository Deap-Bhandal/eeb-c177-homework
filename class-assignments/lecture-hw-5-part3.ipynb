{
 "cells": [
  {
   "cell_type": "code",
   "execution_count": 2,
   "metadata": {},
   "outputs": [
    {
     "name": "stdout",
     "output_type": "stream",
     "text": [
      "Original dictionary :  {1: 2, 3: 4, 4: 3, 2: 1, 0: 0}\n",
      "Dictionary (ascending order):  [(0, 0), (2, 1), (1, 2), (4, 3), (3, 4)]\n",
      "Dictionary (descending order):  {3: 4, 4: 3, 1: 2, 2: 1, 0: 0}\n"
     ]
    }
   ],
   "source": [
    "import operator\n",
    "# importing operator module\n",
    "diction = {1: 2, 3: 4, 4: 3, 2: 1, 0: 0}\n",
    "# setting dictionary diction with 5 values\n",
    "print('Original dictionary : ',diction)\n",
    "# printing dictionary diction\n",
    "sort_diction = sorted(diction.items(), key=operator.itemgetter(1))\n",
    "# sorts the dictionary in assending order\n",
    "print('Dictionary (ascending order): ',sort_diction)\n",
    "# prints sorted dictionary\n",
    "sort_diction = dict( sorted(diction.items(), key=operator.itemgetter(1),reverse=True))\n",
    "# sorts the dictionary in reverse assending (descending) order\n",
    "print('Dictionary (descending order): ',sort_diction)\n",
    "# prints reverse sorted dictionary"
   ]
  },
  {
   "cell_type": "code",
   "execution_count": 3,
   "metadata": {},
   "outputs": [
    {
     "name": "stdout",
     "output_type": "stream",
     "text": [
      "{0: 10, 1: 20}\n",
      "{0: 10, 1: 20, 2: 30}\n"
     ]
    }
   ],
   "source": [
    "diction = {0:10, 1:20}\n",
    "# setting values for dictionary\n",
    "print(diction)\n",
    "# prints dictionary\n",
    "diction.update({2:30})\n",
    "# adds third value\n",
    "print(diction)\n",
    "# prints updated dictionary"
   ]
  },
  {
   "cell_type": "code",
   "execution_count": 4,
   "metadata": {},
   "outputs": [
    {
     "name": "stdout",
     "output_type": "stream",
     "text": [
      "{1: 10, 2: 20, 3: 30, 4: 40, 5: 50, 6: 60}\n"
     ]
    }
   ],
   "source": [
    "diction_1={1:10, 2:20}\n",
    "# creating new dictionary\n",
    "diction_2={3:30, 4:40}\n",
    "# creating second new dictionary\n",
    "diction_3={5:50,6:60}\n",
    "# creating third new dictionary\n",
    "diction_4 = {}\n",
    "# creating empty dictionary \n",
    "for ii in (diction_1, diction_2, diction_3, diction_4):\n",
    "    diction_4.update(ii)\n",
    "# takes each value from the new dictionaries and inputs them into the empty dictionary\n",
    "print(diction_4)\n",
    "# prints now loaded dictionary 4"
   ]
  },
  {
   "cell_type": "code",
   "execution_count": 8,
   "metadata": {},
   "outputs": [
    {
     "name": "stdout",
     "output_type": "stream",
     "text": [
      "present in dictionary\n",
      "not present in dictionary\n"
     ]
    }
   ],
   "source": [
    "diction = {1: 11, 2: 22, 3: 33, 4: 44, 5: 55 }\n",
    "# setting dictionary to values of dictionary 4\n",
    "def is_key_present(x):\n",
    "# checks if any key to be stated later is present\n",
    "    if x in diction:\n",
    "# checks if previous is in diction\n",
    "      print('present in dictionary')\n",
    "# if present prints present in dictionary\n",
    "    else:\n",
    "# checks if not \n",
    "      print('not present in dictionary')\n",
    "# then it prints not present in dictionary\n",
    "is_key_present(3)\n",
    "# asks if key 3 is present in dictionary\n",
    "is_key_present('j')\n",
    "# asks if key j is present in dictionary"
   ]
  },
  {
   "cell_type": "code",
   "execution_count": 11,
   "metadata": {},
   "outputs": [
    {
     "name": "stdout",
     "output_type": "stream",
     "text": [
      "1   11\n",
      "2   22\n",
      "3   33\n",
      "4   44\n",
      "5   55\n",
      "6   66\n",
      "7   77\n"
     ]
    }
   ],
   "source": [
    "diction = {1: 11, 2: 22, 3: 33, 4: 44, 5: 55, 6: 66, 7:77 } \n",
    "# new dictionary\n",
    "for key, val in diction.items():\n",
    "# goes through each key and value in dictionary\n",
    "    print(key,' ',val)\n",
    "#prints the key next to value"
   ]
  },
  {
   "cell_type": "code",
   "execution_count": 23,
   "metadata": {},
   "outputs": [
    {
     "name": "stdout",
     "output_type": "stream",
     "text": [
      "Please input number: 17\n",
      "{1: 1, 2: 4, 3: 9, 4: 16, 5: 25, 6: 36, 7: 49, 8: 64, 9: 81, 10: 100, 11: 121, 12: 144, 13: 169, 14: 196, 15: 225, 16: 256, 17: 289}\n"
     ]
    }
   ],
   "source": [
    "x=int(input(\"Please input number: \"))\n",
    "# assigns x as a number user may input\n",
    "diction = dict()\n",
    "# creates empty dictionary\n",
    "for ii in range(1, x + 1):\n",
    "    diction[ii] = ii * ii\n",
    "# goes through ii creating 1 to how many keyes a user specified then sets the value as the key number squared\n",
    "print(diction)\n",
    "#prints dictionary"
   ]
  },
  {
   "cell_type": "code",
   "execution_count": 24,
   "metadata": {},
   "outputs": [
    {
     "name": "stdout",
     "output_type": "stream",
     "text": [
      "{1: 1, 2: 4, 3: 9, 4: 16, 5: 25, 6: 36, 7: 49, 8: 64, 9: 81, 10: 100, 11: 121, 12: 144, 13: 169, 14: 196, 15: 225}\n"
     ]
    }
   ],
   "source": [
    "diction = dict()\n",
    "# creates empty dictionary\n",
    "for ii in range(1,16):\n",
    "    diction[ii]= ii ** 2\n",
    "# goes through ii until it creates 15 keys and has created values that are the square of each respective key\n",
    "print(diction)\n",
    "# prints dictionary"
   ]
  },
  {
   "cell_type": "code",
   "execution_count": 26,
   "metadata": {},
   "outputs": [
    {
     "name": "stdout",
     "output_type": "stream",
     "text": [
      "{'a': 1, 'b': 2, 'c': 3, 'd': 4, 'e': 5, 'f': 6}\n"
     ]
    }
   ],
   "source": [
    "diction_1 = {'a': 1, 'b': 2, 'c': 3}\n",
    "# creating new dictionary\n",
    "diction_2 = {'d': 4, 'e': 5, 'f': 6}\n",
    "# creating second new dictionary\n",
    "diction = diction_1.copy()\n",
    "# assigning diction var to first new dictionary\n",
    "diction.update(diction_2)\n",
    "# adding second dictionary to diction var \n",
    "print(diction)\n",
    "# printing diction var"
   ]
  },
  {
   "cell_type": "code",
   "execution_count": 29,
   "metadata": {},
   "outputs": [
    {
     "name": "stdout",
     "output_type": "stream",
     "text": [
      "a goes with  1\n",
      "b goes with  2\n",
      "c goes with  3\n"
     ]
    }
   ],
   "source": [
    "diction = {'a': 1, 'b': 2, 'c': 3} \n",
    "# creating new dictionary with diction var\n",
    "for key, val in diction.items():\n",
    "     print(key, 'goes with ', diction[key])\n",
    "# goes through keyes and prints the diction[key] which means its value for each key"
   ]
  },
  {
   "cell_type": "code",
   "execution_count": 31,
   "metadata": {},
   "outputs": [
    {
     "name": "stdout",
     "output_type": "stream",
     "text": [
      "9\n"
     ]
    }
   ],
   "source": [
    "ndiction = {1:1, 2:-4, 3:12, 4:0}\n",
    "# creates a novel dictionary\n",
    "print(sum(ndiction.values()))\n",
    "# prints the sum of all the values"
   ]
  }
 ],
 "metadata": {
  "kernelspec": {
   "display_name": "Python 3",
   "language": "python",
   "name": "python3"
  },
  "language_info": {
   "codemirror_mode": {
    "name": "ipython",
    "version": 3
   },
   "file_extension": ".py",
   "mimetype": "text/x-python",
   "name": "python",
   "nbconvert_exporter": "python",
   "pygments_lexer": "ipython3",
   "version": "3.7.5"
  }
 },
 "nbformat": 4,
 "nbformat_minor": 2
}
