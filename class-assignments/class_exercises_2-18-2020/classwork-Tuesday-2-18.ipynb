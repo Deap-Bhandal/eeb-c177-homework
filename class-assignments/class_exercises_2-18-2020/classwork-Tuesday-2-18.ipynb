{
 "cells": [
  {
   "cell_type": "code",
   "execution_count": 3,
   "metadata": {},
   "outputs": [],
   "source": [
    "# extracting the file and writing Labridae records \n",
    "# number 1 and 3\n",
    "import csv\n",
    "\n",
    "with open(\"fishdata.csv\") as fr:\n",
    "    reader = csv.DictReader(fr)\n",
    "    header = reader.fieldnames\n",
    "\n",
    "    with open(\"fishdata_Labridae.csv\", \"w\") as fw:\n",
    "        writer = csv.DictWriter(fw, fieldnames = header, delimiter = \",\")\n",
    "\n",
    "        for row in reader:\n",
    "            if row[\"family\"] == \"Labridae\":\n",
    "                writer.writerow(row)"
   ]
  },
  {
   "cell_type": "code",
   "execution_count": 2,
   "metadata": {},
   "outputs": [
    {
     "name": "stdout",
     "output_type": "stream",
     "text": [
      "26.94777777777778\n"
     ]
    }
   ],
   "source": [
    "# finding mean\n",
    "# number 2\n",
    "import numpy as np\n",
    "numbs = []\n",
    "with open('fishdata_Labridae.csv', 'r') as file:\n",
    "    means = csv.reader(file)\n",
    "    for ii in means:\n",
    "        if ii[3] != 'NA':\n",
    "            numbs.append(float(ii[3])) \n",
    "            \n",
    "mean_numbs = np.mean(numbs)\n",
    "print(mean_numbs)"
   ]
  },
  {
   "cell_type": "code",
   "execution_count": 8,
   "metadata": {},
   "outputs": [],
   "source": [
    "mystring = \"This is a sentence\""
   ]
  },
  {
   "cell_type": "code",
   "execution_count": 14,
   "metadata": {},
   "outputs": [],
   "source": [
    "def strlen(ss):\n",
    "    sl = len(ss)\n",
    "    print('lenght is {}'.format(sl))"
   ]
  },
  {
   "cell_type": "code",
   "execution_count": 15,
   "metadata": {
    "scrolled": true
   },
   "outputs": [
    {
     "name": "stdout",
     "output_type": "stream",
     "text": [
      "lenght is 18\n"
     ]
    }
   ],
   "source": [
    "strlen(mystring)"
   ]
  }
 ],
 "metadata": {
  "kernelspec": {
   "display_name": "Python 3",
   "language": "python",
   "name": "python3"
  },
  "language_info": {
   "codemirror_mode": {
    "name": "ipython",
    "version": 3
   },
   "file_extension": ".py",
   "mimetype": "text/x-python",
   "name": "python",
   "nbconvert_exporter": "python",
   "pygments_lexer": "ipython3",
   "version": "3.7.5"
  }
 },
 "nbformat": 4,
 "nbformat_minor": 2
}
