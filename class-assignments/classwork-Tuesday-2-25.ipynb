{
 "cells": [
  {
   "cell_type": "code",
   "execution_count": 29,
   "metadata": {},
   "outputs": [],
   "source": [
    "import csv\n",
    "import re"
   ]
  },
  {
   "cell_type": "code",
   "execution_count": 30,
   "metadata": {},
   "outputs": [],
   "source": [
    "inputpath = \"bee_list.txt\""
   ]
  },
  {
   "cell_type": "code",
   "execution_count": 31,
   "metadata": {},
   "outputs": [
    {
     "name": "stdout",
     "output_type": "stream",
     "text": [
      "['Scientific Name', 'Taxon Author', 'tsn']\n"
     ]
    }
   ],
   "source": [
    "# reading the bee_list file\n",
    "authors = []\n",
    "with open(inputpath, \"r\") as dset:\n",
    "    data = csv.DictReader(dset, delimiter = \"\\t\")\n",
    "    for row in data:\n",
    "        authors.append(row[\"Taxon Author\"])\n",
    "    header = data.fieldnames\n",
    "    \n",
    "print(header)"
   ]
  },
  {
   "cell_type": "code",
   "execution_count": 32,
   "metadata": {},
   "outputs": [],
   "source": [
    "#printing the authors column\n",
    "#authors"
   ]
  },
  {
   "cell_type": "code",
   "execution_count": 33,
   "metadata": {},
   "outputs": [],
   "source": [
    "#str1 = \"Tadauchi, Miyanaga & Dawut, 2005\"\n",
    "#str2 = \"(Linnaeus, 1758)\"\n",
    "\n",
    "#def check_auth(streeng):\n",
    "    #char = re.compile() # finish this with a regex pattern\n",
    "    \n",
    "#check_auth(str1)"
   ]
  },
  {
   "cell_type": "code",
   "execution_count": 34,
   "metadata": {},
   "outputs": [],
   "source": [
    "# converting author list to string\n",
    "authors_string = ''.join(authors)"
   ]
  },
  {
   "cell_type": "code",
   "execution_count": 43,
   "metadata": {},
   "outputs": [],
   "source": [
    "# extracting all cases of words starting with a capital letter that is at least two letters long (this excludes initials) from author string (all words in the string are names)\n",
    "find_authors = re.findall(r'\\b[A-Z][A-Za-z]+\\b', authors_string)\n",
    "# new empty list\n",
    "authors_list = []\n",
    "# appending all names to empty list\n",
    "for author in find_authors:\n",
    "    authors_list.append(author)\n",
    "#print(authors_list)"
   ]
  },
  {
   "cell_type": "code",
   "execution_count": 44,
   "metadata": {},
   "outputs": [],
   "source": [
    "# new empty dictionary\n",
    "auth_counts = dict()\n",
    "# keys will be author names and values will be occurances\n",
    "for ii in authors_list:\n",
    "    auth_counts[ii] = auth_counts.get(ii, 0) + 1\n",
    "#print(auth_counts)"
   ]
  },
  {
   "cell_type": "code",
   "execution_count": 45,
   "metadata": {},
   "outputs": [],
   "source": [
    "# dictionary is out of order so I used this module to order it\n",
    "from collections import OrderedDict"
   ]
  },
  {
   "cell_type": "code",
   "execution_count": 46,
   "metadata": {},
   "outputs": [
    {
     "data": {
      "text/plain": [
       "'Cockerell'"
      ]
     },
     "execution_count": 46,
     "metadata": {},
     "output_type": "execute_result"
    }
   ],
   "source": [
    "# sorting dictionary by value (occurances)\n",
    "sorted_auth_count = {k: v for k, v in sorted(auth_counts.items(), key=lambda item: item[1])}\n",
    "# converting sorted dictionary to list of tuples\n",
    "lot_sorted_auth_count = [(k, v) for k, v in sorted_auth_count.items()]\n",
    "# converting list of tuples to OrderedDict\n",
    "ordered_sorted_auth_count = OrderedDict(lot_sorted_auth_count)\n",
    "# calling the last item in the OrderedDict (which should have highest value)\n",
    "list(ordered_sorted_auth_count.keys())[-1]"
   ]
  }
 ],
 "metadata": {
  "kernelspec": {
   "display_name": "Python 3",
   "language": "python",
   "name": "python3"
  },
  "language_info": {
   "codemirror_mode": {
    "name": "ipython",
    "version": 3
   },
   "file_extension": ".py",
   "mimetype": "text/x-python",
   "name": "python",
   "nbconvert_exporter": "python",
   "pygments_lexer": "ipython3",
   "version": "3.7.5"
  }
 },
 "nbformat": 4,
 "nbformat_minor": 2
}
