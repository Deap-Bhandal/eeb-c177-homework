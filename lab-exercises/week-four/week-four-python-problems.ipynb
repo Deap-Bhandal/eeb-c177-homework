{
 "cells": [
  {
   "cell_type": "markdown",
   "metadata": {},
   "source": [
    "## Splicing Strings"
   ]
  },
  {
   "cell_type": "code",
   "execution_count": 16,
   "metadata": {},
   "outputs": [
    {
     "name": "stdout",
     "output_type": "stream",
     "text": [
      "first three characters: oxy\n",
      "last three characters: gen\n"
     ]
    }
   ],
   "source": [
    "element = 'oxygen'\n",
    "print('first three characters:', element[0:3])\n",
    "print('last three characters:', element[3:6])"
   ]
  },
  {
   "cell_type": "code",
   "execution_count": 3,
   "metadata": {},
   "outputs": [
    {
     "name": "stdout",
     "output_type": "stream",
     "text": [
      "oxyg\n"
     ]
    }
   ],
   "source": [
    "# printed value of element[:4], or letters up to 4th letter (including 4th letter)\n",
    "print(element[:4])"
   ]
  },
  {
   "cell_type": "code",
   "execution_count": 6,
   "metadata": {},
   "outputs": [
    {
     "name": "stdout",
     "output_type": "stream",
     "text": [
      "en\n"
     ]
    }
   ],
   "source": [
    "# printed value of element[4:], or letters after 4th letter (not including 4th letter)\n",
    "print(element[4:])"
   ]
  },
  {
   "cell_type": "code",
   "execution_count": 7,
   "metadata": {},
   "outputs": [
    {
     "name": "stdout",
     "output_type": "stream",
     "text": [
      "oxygen\n"
     ]
    }
   ],
   "source": [
    "# printed value of element[:], or all letters\n",
    "print(element[:])"
   ]
  },
  {
   "cell_type": "code",
   "execution_count": 8,
   "metadata": {},
   "outputs": [
    {
     "name": "stdout",
     "output_type": "stream",
     "text": [
      "n\n"
     ]
    }
   ],
   "source": [
    "# printed value of element[-1], or first letter from the end\n",
    "print(element[-1])"
   ]
  },
  {
   "cell_type": "code",
   "execution_count": 9,
   "metadata": {},
   "outputs": [
    {
     "name": "stdout",
     "output_type": "stream",
     "text": [
      "e\n"
     ]
    }
   ],
   "source": [
    "# printed value of element[-2], or second letter from the end\n",
    "print(element[-2])"
   ]
  },
  {
   "cell_type": "code",
   "execution_count": 12,
   "metadata": {},
   "outputs": [
    {
     "name": "stdout",
     "output_type": "stream",
     "text": [
      "xyge\n"
     ]
    }
   ],
   "source": [
    "# printed value of element[1:-1], or characters from second letter to the first letter from the end (not including the first letter from the end)\n",
    "print(element[1:-1])"
   ]
  },
  {
   "cell_type": "code",
   "execution_count": 17,
   "metadata": {},
   "outputs": [
    {
     "name": "stdout",
     "output_type": "stream",
     "text": [
      "[]\n",
      "[]\n"
     ]
    }
   ],
   "source": [
    "# printing strings from inflammation-01.csv\n",
    "import numpy as np\n",
    "medical_data = np.loadtxt(\"inflammation-01.csv\",delimiter = \",\")\n",
    "print(medical_data[3:3,4:4])\n",
    "print(medical_data[3:3,:])\n",
    "#both produce empty strings"
   ]
  },
  {
   "cell_type": "markdown",
   "metadata": {},
   "source": [
    "## Stacking Arrays"
   ]
  },
  {
   "cell_type": "code",
   "execution_count": 14,
   "metadata": {},
   "outputs": [
    {
     "name": "stdout",
     "output_type": "stream",
     "text": [
      "A = \n",
      "[[1 2 3]\n",
      " [4 5 6]\n",
      " [7 8 9]]\n",
      "B = \n",
      "[[1 2 3 1 2 3]\n",
      " [4 5 6 4 5 6]\n",
      " [7 8 9 7 8 9]]\n",
      "C = \n",
      "[[1 2 3]\n",
      " [4 5 6]\n",
      " [7 8 9]\n",
      " [1 2 3]\n",
      " [4 5 6]\n",
      " [7 8 9]]\n"
     ]
    }
   ],
   "source": [
    "import numpy\n",
    "\n",
    "A = numpy.array([[1,2,3], [4,5,6], [7, 8, 9]])\n",
    "print('A = ')\n",
    "print(A)\n",
    "\n",
    "B = numpy.hstack([A, A])\n",
    "print('B = ')\n",
    "print(B)\n",
    "\n",
    "C = numpy.vstack([A, A])\n",
    "print('C = ')\n",
    "print(C)"
   ]
  },
  {
   "cell_type": "code",
   "execution_count": 25,
   "metadata": {},
   "outputs": [
    {
     "name": "stdout",
     "output_type": "stream",
     "text": [
      "[[1 3]\n",
      " [4 6]\n",
      " [7 9]]\n"
     ]
    }
   ],
   "source": [
    "# Sliced first and last column of A, stacked columns, and printed results\n",
    "beg = np.vstack(A[:,0])\n",
    "end = np.vstack(A[:,-1])\n",
    "Stacked = np.hstack([beg, end])\n",
    "print(Stacked)"
   ]
  },
  {
   "cell_type": "code",
   "execution_count": 27,
   "metadata": {},
   "outputs": [
    {
     "data": {
      "text/plain": [
       "array([2, 3, 4, 5])"
      ]
     },
     "execution_count": 27,
     "metadata": {},
     "output_type": "execute_result"
    }
   ],
   "source": [
    "npdiff = numpy.array([ 0,  2,  5,  9, 14])\n",
    "numpy.diff(npdiff)"
   ]
  },
  {
   "cell_type": "code",
   "execution_count": 28,
   "metadata": {},
   "outputs": [],
   "source": [
    "# 1. It would make sense if we worked along axis = 1 (rows) since that would show the change in inflammation over time for each patient."
   ]
  },
  {
   "cell_type": "code",
   "execution_count": 29,
   "metadata": {},
   "outputs": [],
   "source": [
    "# 2.\n",
    "# If the shape of an individual data file is (60, 40) (60 rows and 40 columns), the shape of the array would be (60,39) after running the diff() function. \n",
    "# The diff() function tracks changes across each row and results in one less value for each row. \n",
    "# We do not lose any rows, but we do lose a column. "
   ]
  },
  {
   "cell_type": "code",
   "execution_count": 30,
   "metadata": {},
   "outputs": [
    {
     "name": "stdout",
     "output_type": "stream",
     "text": [
      "[12. 14. 11. 12. 14. 11. 12. 14. 11. 12. 14. 11. 12. 14. 11. 12. 14. 11.\n",
      " 12. 14. 11. 12. 14. 11. 12. 14. 11. 12. 14. 11. 12. 14. 11. 12. 14. 11.\n",
      " 12. 14. 11. 12. 14. 11. 12. 14. 11. 12. 14. 11. 12. 14. 11. 12. 14. 11.]\n"
     ]
    }
   ],
   "source": [
    "# 3. Finding largest change in inflammation for each patient\n",
    "# I found the change of each inflammation value compared to the previous value for each patient using np.diff()\n",
    "# It matters if the change in inflammation is an increase or decrease since simply finding the max value of the previous dataset will exclude really large negative numbers.\n",
    "# Thus, I find the absolute value of the np(diff) values and then find the max of it using np.max(np.abs(npdiff(medical_data)))\n",
    "change_inf = np.max(np.abs(np.diff(medical_data)), axis = 1)\n",
    "print(change_inf)"
   ]
  }
 ],
 "metadata": {
  "kernelspec": {
   "display_name": "Python 3",
   "language": "python",
   "name": "python3"
  },
  "language_info": {
   "codemirror_mode": {
    "name": "ipython",
    "version": 3
   },
   "file_extension": ".py",
   "mimetype": "text/x-python",
   "name": "python",
   "nbconvert_exporter": "python",
   "pygments_lexer": "ipython3",
   "version": "3.7.5"
  }
 },
 "nbformat": 4,
 "nbformat_minor": 2
}
