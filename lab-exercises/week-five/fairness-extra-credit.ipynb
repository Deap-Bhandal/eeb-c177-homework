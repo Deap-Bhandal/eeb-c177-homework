{
 "cells": [
  {
   "cell_type": "code",
   "execution_count": 1,
   "metadata": {},
   "outputs": [],
   "source": [
    "import pandas as pd\n",
    "tmp_data = pd.read_csv('blake.csv')\n",
    "data = tmp_data.to_numpy()"
   ]
  },
  {
   "cell_type": "code",
   "execution_count": 2,
   "metadata": {},
   "outputs": [
    {
     "name": "stdout",
     "output_type": "stream",
     "text": [
      "[['DI' 'Uganda' 'uganda.actor.1' ... 'accept' 'low' 't1']\n",
      " ['AI' 'Uganda' 'uganda.actor.2' ... 'accept' 'low' 't1']\n",
      " ['AI' 'Uganda' 'uganda.actor.3' ... 'accept' 'low' 't1']\n",
      " ...\n",
      " ['AI' 'Canada' 'canada.94' ... 'accept' 'low' 't16']\n",
      " ['DI' 'Canada' 'canada.95' ... 'accept' 'high' 't16']\n",
      " ['AI' 'Canada' 'canada.96' ... 'reject' 'high' 't16']]\n"
     ]
    }
   ],
   "source": [
    "print(data)"
   ]
  },
  {
   "cell_type": "code",
   "execution_count": 5,
   "metadata": {},
   "outputs": [
    {
     "data": {
      "text/plain": [
       "array([['Uganda'],\n",
       "       ['Uganda'],\n",
       "       ['Uganda'],\n",
       "       ...,\n",
       "       ['Canada'],\n",
       "       ['Canada'],\n",
       "       ['Canada']], dtype=object)"
      ]
     },
     "execution_count": 5,
     "metadata": {},
     "output_type": "execute_result"
    }
   ],
   "source": [
    "data[:, [1]]"
   ]
  },
  {
   "cell_type": "code",
   "execution_count": 21,
   "metadata": {},
   "outputs": [],
   "source": [
    "list1 = (data[:, [1]]).tolist()"
   ]
  },
  {
   "cell_type": "code",
   "execution_count": 23,
   "metadata": {},
   "outputs": [
    {
     "name": "stdout",
     "output_type": "stream",
     "text": [
      "the unique values from 1st list is\n",
      "['Uganda']\n",
      "['Mexico']\n",
      "['US']\n",
      "['India']\n",
      "['Senegal']\n",
      "['Peru']\n",
      "['Canada']\n"
     ]
    }
   ],
   "source": [
    "def unique(list1): \n",
    "    unique_list = [] \n",
    "    for ii in list1: \n",
    "        if ii not in unique_list: \n",
    "            unique_list.append(ii) \n",
    "    for ii in unique_list: \n",
    "        print(ii)\n",
    "print(\"the unique values from 1st list is\") \n",
    "unique(list1) "
   ]
  },
  {
   "cell_type": "code",
   "execution_count": null,
   "metadata": {},
   "outputs": [],
   "source": []
  }
 ],
 "metadata": {
  "kernelspec": {
   "display_name": "Python 3",
   "language": "python",
   "name": "python3"
  },
  "language_info": {
   "codemirror_mode": {
    "name": "ipython",
    "version": 3
   },
   "file_extension": ".py",
   "mimetype": "text/x-python",
   "name": "python",
   "nbconvert_exporter": "python",
   "pygments_lexer": "ipython3",
   "version": "3.7.5"
  }
 },
 "nbformat": 4,
 "nbformat_minor": 2
}
