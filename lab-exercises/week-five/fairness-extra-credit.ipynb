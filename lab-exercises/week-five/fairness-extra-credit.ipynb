{
 "cells": [
  {
   "cell_type": "code",
   "execution_count": 50,
   "metadata": {},
   "outputs": [],
   "source": [
    "import pandas as pd\n",
    "tmp_data = pd.read_csv('blake.csv')\n",
    "data = tmp_data.to_numpy()"
   ]
  },
  {
   "cell_type": "code",
   "execution_count": 51,
   "metadata": {},
   "outputs": [
    {
     "name": "stdout",
     "output_type": "stream",
     "text": [
      "[['DI' 'Uganda' 'uganda.actor.1' ... 'accept' 'low' 't1']\n",
      " ['AI' 'Uganda' 'uganda.actor.2' ... 'accept' 'low' 't1']\n",
      " ['AI' 'Uganda' 'uganda.actor.3' ... 'accept' 'low' 't1']\n",
      " ...\n",
      " ['AI' 'Canada' 'canada.94' ... 'accept' 'low' 't16']\n",
      " ['DI' 'Canada' 'canada.95' ... 'accept' 'high' 't16']\n",
      " ['AI' 'Canada' 'canada.96' ... 'reject' 'high' 't16']]\n"
     ]
    }
   ],
   "source": [
    "print(data)"
   ]
  },
  {
   "cell_type": "code",
   "execution_count": 52,
   "metadata": {},
   "outputs": [],
   "source": [
    "list1 = (data[:, [1]]).tolist()"
   ]
  },
  {
   "cell_type": "code",
   "execution_count": 53,
   "metadata": {},
   "outputs": [
    {
     "name": "stdout",
     "output_type": "stream",
     "text": [
      "['Uganda']\n",
      "['Mexico']\n",
      "['US']\n",
      "['India']\n",
      "['Senegal']\n",
      "['Peru']\n",
      "['Canada']\n"
     ]
    }
   ],
   "source": [
    "#1\n",
    "def unique(list1): \n",
    "    unique_list = [] \n",
    "    for ii in list1: \n",
    "        if ii not in unique_list: \n",
    "            unique_list.append(ii) \n",
    "    for ii in unique_list: \n",
    "        print(ii)\n",
    "unique(list1) "
   ]
  },
  {
   "cell_type": "code",
   "execution_count": 54,
   "metadata": {},
   "outputs": [],
   "source": [
    "list2 = (data[:, [1,4]]).tolist()"
   ]
  },
  {
   "cell_type": "code",
   "execution_count": 55,
   "metadata": {},
   "outputs": [
    {
     "name": "stdout",
     "output_type": "stream",
     "text": [
      "('Uganda', 'F') - 912\n",
      "('Uganda', 'M') - 912\n",
      "('Mexico', 'M') - 624\n",
      "('Mexico', 'F') - 464\n",
      "('US', 'F') - 1776\n",
      "('US', 'M') - 1536\n",
      "('India', 'F') - 960\n",
      "('India', 'M') - 704\n",
      "('Senegal', 'F') - 1024\n",
      "('Senegal', 'M') - 1024\n",
      "('Peru', 'M') - 1216\n",
      "('Peru', 'F') - 1168\n",
      "('Canada', 'F') - 752\n",
      "('Canada', 'M') - 784\n"
     ]
    }
   ],
   "source": [
    "#2\n",
    "def count(list3): \n",
    "    check = False\n",
    "    list4 = []   \n",
    "    ii = 0\n",
    "    for x in list3: \n",
    "        if x in list4:   \n",
    "            check = True\n",
    "            continue\n",
    "        else: \n",
    "            ii = 0\n",
    "            for y in list3: \n",
    "                if y[0] == x[0] and y[1] == x[1]: \n",
    "                    ii = ii + 1\n",
    "            if(ii > 1):  \n",
    "                print(x, \"-\", ii) \n",
    "            list4.append(x)  \n",
    "    if check == False: \n",
    "        print(\"No repeats\") \n",
    "list3 = [tuple(i) for i in list2]\n",
    "count(list3)"
   ]
  },
  {
   "cell_type": "markdown",
   "metadata": {},
   "source": [
    "#3\n",
    "For each country, select actors of age 10-12. Are females more likely than males to reject when the distribution is unequal and to their advantage?\n",
    "\n",
    "I got stuck on how to organize the data before I could analyze it.\n",
    "I want to say the answer is yes though. "
   ]
  }
 ],
 "metadata": {
  "kernelspec": {
   "display_name": "Python 3",
   "language": "python",
   "name": "python3"
  },
  "language_info": {
   "codemirror_mode": {
    "name": "ipython",
    "version": 3
   },
   "file_extension": ".py",
   "mimetype": "text/x-python",
   "name": "python",
   "nbconvert_exporter": "python",
   "pygments_lexer": "ipython3",
   "version": "3.7.5"
  }
 },
 "nbformat": 4,
 "nbformat_minor": 2
}
